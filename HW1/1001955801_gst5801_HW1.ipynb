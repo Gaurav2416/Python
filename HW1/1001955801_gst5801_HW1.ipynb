{
 "cells": [
  {
   "cell_type": "markdown",
   "metadata": {},
   "source": [
    "Instruction:\n",
    "\n",
    "1. For the below code please enter string input \n",
    "2. The user are expected to enter three inputs"
   ]
  },
  {
   "cell_type": "markdown",
   "metadata": {},
   "source": [
    "Algorithm:\n",
    "\n",
    "1. In this code we are concatenating string 2 with string 1 using '+' and then compare it with string 3.\n",
    "2. it will check whether it matches \n",
    "3. if not the gives not equal output"
   ]
  },
  {
   "cell_type": "code",
   "execution_count": 1,
   "metadata": {},
   "outputs": [
    {
     "name": "stdout",
     "output_type": "stream",
     "text": [
      "The Two Strings Are Equal\n"
     ]
    }
   ],
   "source": [
    "# Concatenation of 2nd string to first string is equal to third string check!!\n",
    "ipStr1 = input('Enter the first String=') # Accept user input and store in variable.\n",
    "ipStr2 = input('Enter the Second String=') \n",
    "ipStr3 = input('Enter the Third String=') \n",
    "\n",
    "if ipStr2 + ipStr1 == ipStr3: # this expression concatenates the string two and one and comapre with third string\n",
    "    print('The Two Strings Are Equal') # if matched then gives equal output.\n",
    "else:\n",
    "    print('The Two Strings Are Not Equal') # if not matched then gives not eqaul output."
   ]
  },
  {
   "cell_type": "markdown",
   "metadata": {},
   "source": [
    "Instruction:\n",
    "\n",
    "1. The below code will ask for single input for length ie 3 or 4 numbers\n",
    "2. Then enter integers each time, if you have entered 3 then enter 3 nos\n",
    "3. Each time it will ask for providing an input number.\n",
    "4. Please dont enter all the number at once.\n",
    "5. Please enter only integer value or else code will not be executed\n"
   ]
  },
  {
   "cell_type": "markdown",
   "metadata": {},
   "source": [
    "Algorithm:\n",
    "\n",
    "1. This code will take 3 or 4 numbers\n",
    "2. it will check whether values is max value, update variable if yes \n",
    "3. add number to find total in each iteration and then calculate average"
   ]
  },
  {
   "cell_type": "code",
   "execution_count": 2,
   "metadata": {},
   "outputs": [
    {
     "name": "stdout",
     "output_type": "stream",
     "text": [
      "The output is for 3 numbers.\n",
      "The Average of Number= 5.0\n",
      "The max number Enter is= 9\n"
     ]
    }
   ],
   "source": [
    "# Count average and max of numbers \n",
    "#initalizing the variable\n",
    "total = 0 \n",
    "maxNum = 0\n",
    "length = int(input('Enter count of number=')) # ask for how many number you want to enter \n",
    "for i in range(0,length): # it will iterate till length variable value and it always start with index zero\n",
    "    val = int(input(\"Enter the Numbers\")) # enter number you want average and max value of \n",
    "    if maxNum < val: # compare if value is greater than maxNum for each iteration\n",
    "        maxNum = val # if greater than assign to maxNum \n",
    "    else:\n",
    "        maxNum = maxNum # if maxNum has greater value than dont change the value\n",
    "    total += val # Adding number to total in each iteration\n",
    "print(\"The output is for\", length,'numbers.')\n",
    "print(\"The Average of Number=\", round(total/length,2)) # round function will show the value upto two decimal point because of argument 2 \n",
    "                                                        # and epression total/length will calculate the average \n",
    "print(\"The max number Enter is=\",maxNum)    # prints the max value from all the number user have entered       "
   ]
  },
  {
   "cell_type": "markdown",
   "metadata": {},
   "source": [
    "Instruction:\n",
    "\n",
    "1. The user should enter an positive interger value to check wheter prime , composite or none of them.\n",
    "2. If integer is not entered code will not be executed."
   ]
  },
  {
   "cell_type": "markdown",
   "metadata": {},
   "source": [
    "Algo:\n",
    "\n",
    "1. check if number is equal to 1 or 0 if yes then number nor composite neither prime\n",
    "2. iterate from 2 to value entered by user\n",
    "3. check in each iteration if number is modulus by i value that is between 2 and number\n",
    "4. if not then prime number else composite"
   ]
  },
  {
   "cell_type": "code",
   "execution_count": 5,
   "metadata": {},
   "outputs": [
    {
     "name": "stdout",
     "output_type": "stream",
     "text": [
      "The Number is prime number 29\n"
     ]
    }
   ],
   "source": [
    "# Check number is prime or composite\n",
    "check = 0 # this counter variable to print the prime number\n",
    "number = int(input(\"Enter Number=\")) # Accept integer number to check for prime or composite\n",
    "if number == 1 or number ==  0: # if number is 1 or 0 its nor prime niether composite this condition checks that. \n",
    "    print(\"The number is not prime and not composite\",number) \n",
    "elif number > 1: # if number is great one then check for divisibility.\n",
    "    for i in range(2,number): # this range start from 2 till the number to check if number is divisible\n",
    "        if number % i == 0: # checks for divisiblity\n",
    "            check = 0\n",
    "            print(\"The number is composite\",number) # if yes then break because number is divisible by i and its composite not prime \n",
    "            break\n",
    "        else:\n",
    "            check +=1 # if not then increase the counter continue the iteration\n",
    "            continue                \n",
    "else:\n",
    "    print(\"The number is below 0 please enter postive integer\")        \n",
    "if check > 0: # if counter check is greater than zero then number is prime\n",
    "            print(\"The Number is prime number\",number)\n"
   ]
  },
  {
   "cell_type": "markdown",
   "metadata": {},
   "source": [
    "Instruction:\n",
    "\n",
    "1. Below is the generic code for validation if user enters incorrect value the it will ask user to enter the value again\n",
    "2. The function will accept four parameters.\n",
    "3. The parameter are not mandatory if an argument is not passed for an parameter it will use its defaul value.\n",
    "4. This is the infinity loop until user enters the correct value.\n",
    "5. If condition is passed the assert will check for condition\n",
    "6. If incorrect input is encounters it will show the error message will message passed by user or invalid text"
   ]
  },
  {
   "cell_type": "markdown",
   "metadata": {},
   "source": [
    "Algo:\n",
    "\n",
    "1. Infinite loop until user enter correct value\n",
    "2. check for the type cast value if yes then move ahead or show error message\n",
    "3. check for the condition given by user, if none condition then move ahead\n",
    "4. except will catch error from try block"
   ]
  },
  {
   "cell_type": "code",
   "execution_count": 2,
   "metadata": {},
   "outputs": [],
   "source": [
    "# Function is for validation generic code.\n",
    "def validation(prompt = \"\",cast = None, cond = None, errMsg = None): # accepts four parameter for validating the user input\n",
    "    # prompt is for string that will be visible to the user\n",
    "    # cast is the casting of the input value the defalut value is string\n",
    "    # cond is for condition it checks input with the condition passed by user, if no condition is passed then it chooses default value\n",
    "    #errMsg is for custom error message  if no message is passed the it will choosed default value.\n",
    "    while True: # This is infinity loop unless user enters correct value or unless user stops execution\n",
    "        try: #this is try block for execution and check for error \n",
    "            res = (cast or str)(input(prompt)) # If cast is passed then this will check the user input satisfies or else will throw a error. User value are stored in res variable\n",
    "            assert cond is None or cond(res) # Assert will check for the cond value if none then will return res or else check for the condition passed and if satisfied then return res else give error message\n",
    "            return res # res has correct value and can be utilized for further computation\n",
    "        except: # this is catch block if error is generated it will catch it and show the error message\n",
    "            print(errMsg or \"Invalid!!\")   # if the error message is passed by user it will show that error message else will show Invalid +"
   ]
  },
  {
   "cell_type": "markdown",
   "metadata": {},
   "source": [
    "Algo:\n",
    "\n",
    "1. First cell contains the function that will compute and return the simple interest\n",
    "2. The second takes input from the user and checks for the validation \n",
    "3. If the input is proper then it will call the simpleInterest function passing the argument amount, interest and year"
   ]
  },
  {
   "cell_type": "code",
   "execution_count": 8,
   "metadata": {},
   "outputs": [],
   "source": [
    "#  Calculate simple interest function\n",
    "\n",
    "def simpleInterest(p,n,r): # this is function used to calculate simple interest\n",
    "    return ((p*n*r)/100) # this is formula for simple interest and returns the value"
   ]
  },
  {
   "cell_type": "markdown",
   "metadata": {},
   "source": [
    "Instruction:\n",
    "\n",
    "1. the below cell requires three input amount , interest, years.\n",
    "2. If values are not correct then it will again ask you to enter the value until user enter correct value code wont move forward\n",
    "3. Now basic validation are added we can custom the validation"
   ]
  },
  {
   "cell_type": "markdown",
   "metadata": {},
   "source": [
    "Algo:\n",
    "\n",
    "1. check for validation if correct store in the variable\n",
    "2. pass value to simple interest function\n",
    "3. return output with simple interest"
   ]
  },
  {
   "cell_type": "code",
   "execution_count": 12,
   "metadata": {},
   "outputs": [
    {
     "name": "stdout",
     "output_type": "stream",
     "text": [
      "The simple interest for  8000.0  with interest 5.0 for years 2 is = 800.0\n"
     ]
    }
   ],
   "source": [
    "# call for the function and print op\n",
    "amount = validation(prompt = \"Enter the principle=\", cast = float, cond = lambda x: x > 0)# This calls validation function with console message , cast type and contion. the condition is to be greater than 0.\n",
    "interest = validation(prompt = \"Enter the interest 0 to 100=\",cast= float, cond = lambda x: 0 < x < 100)# This calls validation function with console message , cast type and contion. the condition is to be greater than 0 and less than 200.\n",
    "year = validation(prompt = \"Enter the year round up to integer=\", cast = int, cond = lambda x : x > 0) # This calls validation function with console message , cast type and contion. the condition is to be greater than 0.\n",
    "print(\"The simple interest for \", amount,\" with interest\", interest,\"for years\",year,\"is =\",simpleInterest(amount,interest,year)) # If all the values are true then it will call fucntion give simple interest"
   ]
  },
  {
   "cell_type": "markdown",
   "metadata": {},
   "source": [
    "Instruction:\n",
    "\n",
    "1. The below will take infinite number of items from the user.\n",
    "2. The user is given choice to continue or stop.\n",
    "3. User inputs will be validated and until the enter correct value the code will not move forward\n",
    "4. The output will be all product name, product values , total amount for all products and count of products\n",
    "5. This will return empty list if no product is entered"
   ]
  },
  {
   "cell_type": "markdown",
   "metadata": {},
   "source": [
    "Algo:\n",
    "\n",
    "1. Please enter y or n to  enter item in cart and continue the loop\n",
    "2. if y then move forward \n",
    "3. check for validation and store in variable\n",
    "4. append value to array\n",
    "5.  if n then break the loop\n",
    "6. iterate add value to total and show product name and value\n",
    " "
   ]
  },
  {
   "cell_type": "code",
   "execution_count": null,
   "metadata": {},
   "outputs": [],
   "source": [
    "#  Cart program that add item to cart and check for correct value. Gives output of total and prpoduct list with name and value\n",
    "# This will ask user if the want to enter anything to begin the list. If the user says y or Y then they can enter the name and value. if N or n then it will give an empty list.\n",
    "# If any other value other than y or Y or n or N is entered it will not accept and wont move forward until the user enter some correct value.\n",
    "addItemcheck = validation(prompt = \"Do you want to add item if yes then enter y= \",cast = str, cond = lambda x: x =='y' or x =='Y'or x == 'n' or x == 'N', errMsg= \"Enter either y or n\").lower()\n",
    "# Variable initialization  \n",
    "count = 0 # this is to check the number of items enter in the list\n",
    "productName = [] # this is array that will store all the product names\n",
    "productValue = [] # this array will store all the product values\n",
    "total = 0 # this value will store the total amount.\n",
    "print('Weclcome to the bill statement')\n",
    "# if user has enter the y then now the code will move forward to ask product name and value\n",
    "while addItemcheck == 'y':\n",
    "    if count > 0: #this condition will again and again ask user whether they want to enter a new product.\n",
    "        # this will prompt user wether they want to add new product.If the user says y or Y then they can enter the name and value. if N or n then it will give an empty list.\n",
    "        # If any other value other than y or Y or n or N is entered it will not accept and wont move forward until the user enter some correct value.\n",
    "        addItemcheck = validation(prompt = \"Do you want to add item if yes then enter y= \",cast = str, cond = lambda x: x =='y' or x =='Y'or x == 'n' or x == 'N', errMsg= \"Enter either y or n\").lower()\n",
    "    if addItemcheck == 'n': # if the user will say n or N the it will break out the loop\n",
    "            break   \n",
    "    # THis will accept user input for product name. The user should enter string. If user enter something else the code will ask again to enter value until user enters correct value. \n",
    "    itemName = validation(prompt = \"Enter the product name = \",cast = str,cond= lambda x: x.isalpha(),errMsg = \"Enter correct product name!!!\")\n",
    "    # THis will accept user input for product value. The user should enter float. If user enter something else the code will ask again to enter value until user enters correct value. \n",
    "    itemValue = validation(prompt = \"Enter the number=\", cast = float ,errMsg = \"Enter an integer!!\")\n",
    "    # if there are values in itemValue and itemName then those values wil be appended to the arrays productValue and productName and counter will be increased by one\n",
    "    if itemValue and itemName:\n",
    "        productValue.append(itemValue)\n",
    "        productName.append(itemName)\n",
    "        count += 1\n",
    "# If there are value in array productName and productValue then it will show the list is empty\n",
    "if len(productName) > 0 and len(productValue) > 0:        \n",
    "    for i in range(len(productName)): # it will iterate over all the values in the array\n",
    "        print(\"Product name:\",productName[i]) # will print all the product name\n",
    "        print(\"Product value:\",productValue[i])# will print all the product value\n",
    "        total += productValue[i] # this will print the total amount the user have to pay\n",
    "    print(f\"The total amount for {count} products are= {total:.2f}\") # this output uses f function and gives the number of products and their total          \n",
    "else:\n",
    "    print(\"You have entered no item in the list\") # if no item is entered the it will print this   "
   ]
  }
 ],
 "metadata": {
  "kernelspec": {
   "display_name": "Python 3.10.4 64-bit",
   "language": "python",
   "name": "python3"
  },
  "language_info": {
   "codemirror_mode": {
    "name": "ipython",
    "version": 3
   },
   "file_extension": ".py",
   "mimetype": "text/x-python",
   "name": "python",
   "nbconvert_exporter": "python",
   "pygments_lexer": "ipython3",
   "version": "3.10.4"
  },
  "orig_nbformat": 4,
  "vscode": {
   "interpreter": {
    "hash": "4b158de9dee9cdd12df4ca6f07919f74aba3858e0415eb8802c7bdbce4de9a36"
   }
  }
 },
 "nbformat": 4,
 "nbformat_minor": 2
}
