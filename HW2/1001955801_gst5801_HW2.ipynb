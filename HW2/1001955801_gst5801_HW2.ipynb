{
 "cells": [
  {
   "cell_type": "markdown",
   "metadata": {},
   "source": [
    "Instruction:\n",
    "\n",
    "1. Below is the generic code for validation if user enters incorrect value the it will ask user to enter the value again\n",
    "2. The function will accept four parameters.\n",
    "3. The parameter are not mandatory if an argument is not passed for an parameter it will use its defaul value.\n",
    "4. This is the infinity loop until user enters the correct value.\n",
    "5. If condition is passed the assert will check for condition\n",
    "6. If incorrect input is encounters it will show the error message will message passed by user or invalid text"
   ]
  },
  {
   "cell_type": "markdown",
   "metadata": {},
   "source": [
    "Algo:\n",
    "\n",
    "1. Infinite loop until user enter correct value\n",
    "2. check for the type cast value if yes then move ahead or show error message\n",
    "3. check for the condition given by user, if none condition then move ahead\n",
    "4. except will catch error from try block"
   ]
  },
  {
   "cell_type": "code",
   "execution_count": 2,
   "metadata": {},
   "outputs": [],
   "source": [
    "# Function is for validation generic code.\n",
    "def validation(prompt = \"\",cast = None, cond = None, errMsg = None): # accepts four parameter for validating the user input\n",
    "    # prompt is for string that will be visible to the user\n",
    "    # cast is the casting of the input value the defalut value is string\n",
    "    # cond is for condition it checks input with the condition passed by user, if no condition is passed then it chooses default value\n",
    "    #errMsg is for custom error message  if no message is passed the it will choosed default value.\n",
    "    while True: # This is infinity loop unless user enters correct value or unless user stops execution\n",
    "        try: #this is try block for execution and check for error \n",
    "            res = (cast or str)(input(prompt)) # If cast is passed then this will check the user input satisfies or else will throw a error. User value are stored in res variable\n",
    "            assert cond is None or cond(res) # Assert will check for the cond value if none then will return res or else check for the condition passed and if satisfied then return res else give error message\n",
    "            return res # res has correct value and can be utilized for further computation\n",
    "        except: # this is catch block if error is generated it will catch it and show the error message\n",
    "            print(errMsg or \"Invalid!!\")   # if the error message is passed by user it will show that error message else will show Invalid +"
   ]
  },
  {
   "cell_type": "markdown",
   "metadata": {},
   "source": [
    "Instruction:\n",
    "1. Please run the validation function first\n",
    "2. The user must enter  y or n to continue to play the game\n",
    "3. Pandas library needs to installed\n",
    "4. User must choose from 'paper','rock','scissor'\n",
    "5. A data frame with all the results will be returned"
   ]
  },
  {
   "cell_type": "markdown",
   "metadata": {},
   "source": [
    "Algorithm:\n",
    "1. User will be asked if they want to start the game\n",
    "2. Once the game is started user will play atleat 10 times\n",
    "3. if user exits before playing 10 times it will show validation error and user will be asked to enter choice again\n",
    "4. when user enters the choice vadiation for entering correct choice if not passed user will be asked to enter again\n",
    "5. If correct option entered by user, computer will random option from the list \n",
    "6. there are condition to decide a winner and draw , each step will show who won with user and computer choice\n",
    "7. After 10 iteration user can leave the game, as soon as user leaves the game a dataframe will all choices of user and computer will be displayed along with the result of each round"
   ]
  },
  {
   "cell_type": "code",
   "execution_count": 17,
   "metadata": {},
   "outputs": [
    {
     "name": "stdout",
     "output_type": "stream",
     "text": [
      "Comp Choice rock\n",
      "Draw!!\n",
      "User Cannot break less than 10\n",
      "Comp Choice rock\n",
      "Draw!!\n",
      "Comp Choice rock\n",
      "Draw!!\n",
      "Comp Choice rock\n",
      "Draw!!\n",
      "Comp Choice scissor\n",
      "User wins!!\n",
      "Comp Choice paper\n",
      "comp wins!!\n",
      "Comp Choice rock\n",
      "Draw!!\n",
      "Comp Choice scissor\n",
      "User wins!!\n",
      "Comp Choice paper\n",
      "comp wins!!\n",
      "Comp Choice paper\n",
      "comp wins!!\n",
      "Comp Choice rock\n",
      "Draw!!\n",
      "Comp Choice paper\n",
      "comp wins!!\n",
      "Comp Choice rock\n",
      "Draw!!\n",
      "Comp Choice scissor\n",
      "User wins!!\n",
      "Comp Choice paper\n",
      "comp wins!!\n",
      "Comp Choice paper\n",
      "comp wins!!\n",
      "Comp Choice paper\n",
      "comp wins!!\n",
      "   User Choice Comp Choice     Result\n",
      "0         rock        rock       Draw\n",
      "1         rock        rock       Draw\n",
      "2         rock        rock       Draw\n",
      "3         rock        rock       Draw\n",
      "4         rock     scissor  user wins\n",
      "5         rock       paper  comp wins\n",
      "6         rock        rock       Draw\n",
      "7         rock     scissor  user wins\n",
      "8         rock       paper  comp wins\n",
      "9         rock       paper  comp wins\n",
      "10        rock        rock       Draw\n",
      "11        rock       paper  comp wins\n",
      "12        rock        rock       Draw\n",
      "13        rock     scissor  user wins\n",
      "14        rock       paper  comp wins\n",
      "15        rock       paper  comp wins\n",
      "16        rock       paper  comp wins\n"
     ]
    }
   ],
   "source": [
    "# import random to choose random values for computer choice\n",
    "import random\n",
    "import pandas as pd # import pandas to make data frame\n",
    "#intializing variables\n",
    "arrGame = ['paper','rock','scissor']\n",
    "userCh = [] # store user choice for each game\n",
    "compCh = [] # store computer choice for each game\n",
    "result = [] ## store result for each game\n",
    "# Accpeting user choice user choice to continue is y or n\n",
    "userInput =  validation('Do you want to play game:',cond=lambda x: x =='y' or x == 'n' ,errMsg=\"Please enter y or n\")\n",
    "i = 0\n",
    "# This is loop to take multiple values from user if the count is less than 10 it wont le user to exit the game\n",
    "while userInput == 'y':\n",
    "  if i > 0:\n",
    "    userInput =  validation('Enter you want to continue:',cond=lambda x: x =='y' or x == 'n'  ,errMsg=\"Please enter y or n\")\n",
    "  # User can not exit if the count of the game played is less than 10 user has to play 10 times\n",
    "  if  i < 10 and userInput == 'n':\n",
    "    print('User Cannot break less than 10')\n",
    "    userInput =  validation('Enter you want to continue:',cond=lambda x: x =='y' or x == 'n'  ,errMsg=\"Please enter y or n\")  \n",
    "  # random choice from arrGame to choose compchoice\n",
    "  compChoice =  random.choice(arrGame)\n",
    "  # check if the game count is grater than 10 and user wants to exit the game user is allowed to exit.\n",
    "  if  i > 10 and userInput.lower() == 'n':\n",
    "    break\n",
    "# this loop will check if the user choice is from 'paper','rock','scissor' else it will ask user to enter again\n",
    "  while True:\n",
    "    userChoice = input(\"Enter your choice:\")\n",
    "    if userChoice.lower() in arrGame:\n",
    "      break\n",
    "    else:\n",
    "      print(\"enter again\")\n",
    "      continue\n",
    "  # check if the user computer won or its a draw    \n",
    "  if (userChoice == 'scissor' and compChoice == 'paper') or (userChoice == 'rock' and compChoice == 'scissor') or (userChoice == 'paper' and compChoice == 'rock'):\n",
    "    userCh.append(userChoice)\n",
    "    compCh.append(compChoice)\n",
    "    result.append('user wins')\n",
    "    print(\"Comp Choice\",compChoice)\n",
    "    print('User wins!!')\n",
    "   # check for draw \n",
    "  elif userChoice == compChoice:\n",
    "    userCh.append(userChoice)\n",
    "    compCh.append(compChoice)\n",
    "    result.append('Draw')\n",
    "    print(\"Comp Choice\",compChoice)\n",
    "    print('Draw!!')\n",
    "    #comp wins   \n",
    "  else:\n",
    "    userCh.append(userChoice)\n",
    "    compCh.append(compChoice)\n",
    "    result.append('comp wins')\n",
    "    print(\"Comp Choice\",compChoice)\n",
    "    print('comp wins!!')\n",
    "  # game counter increases at each game played   \n",
    "  i += 1\n",
    "else:\n",
    "  print(\"Left game without playing\")  \n",
    "# creating a list for making dataframe  \n",
    "data = list(zip(userCh,compCh,result))\n",
    "# Creating a dataframe to show all the results of each game\n",
    "df =  pd.DataFrame(data, columns=['User Choice','Comp Choice','Result'])\n",
    "if not df.empty:\n",
    "  print(df)"
   ]
  },
  {
   "cell_type": "markdown",
   "metadata": {},
   "source": [
    "Instruction:\n",
    "1. user should enter number from 1 to 100\n",
    "2. the validtion function cell should be run before running this function"
   ]
  },
  {
   "cell_type": "markdown",
   "metadata": {},
   "source": [
    "Algorithm:\n",
    "1. User should enter number from 1 to 100 \n",
    "2. if user enter string it will not accept and user enter number\n",
    "3. If the user value is correct then a loop will be run\n",
    "4. Inside loop the computer will chosse a random value from 1 to 100\n",
    "5. if random value mathces the user value it will break the loop, each iteration count will be incremented\n",
    "6. At the number of iteration computer will take will be returned"
   ]
  },
  {
   "cell_type": "code",
   "execution_count": 8,
   "metadata": {},
   "outputs": [
    {
     "name": "stdout",
     "output_type": "stream",
     "text": [
      "Please enter numbr between 1 to 100\n",
      "You entered 2, and it took the program 103 iterations to guess \n"
     ]
    }
   ],
   "source": [
    "# import random to choose random values for computer choice\n",
    "import random as rand\n",
    "# Accepting user number from 1 to 100\n",
    "userVal = validation(prompt = \"Enter the value from 1 to 100:\", cast = int,cond = lambda x: 0 < x < 100 ,errMsg = \"Please enter numbr between 1 to 100\")\n",
    "count = 0\n",
    "# this is infinite loop\n",
    "while True:\n",
    "  # This condition checks for the user value to be similar with computer value and break\n",
    "  if userVal == rand.randrange(1,101):\n",
    "    break\n",
    "  else:\n",
    "    # increases count for each iteration\n",
    "    count += 1\n",
    "# print result using f string\n",
    "print(f\"You entered {userVal}, and it took the program {count} iterations to guess \")    "
   ]
  },
  {
   "cell_type": "markdown",
   "metadata": {},
   "source": [
    "Intruction:\n",
    "1. Run the validation function cell before running this cell\n",
    "2. user should enter a string"
   ]
  },
  {
   "cell_type": "markdown",
   "metadata": {},
   "source": [
    "Algorithm:\n",
    "1. User should enter a string if the string is empty program will ask user to enter a valid string\n",
    "2. The user should enter the character if there is no value then program will ask again for the value\n",
    "3. It will check for the condition where the charater is at the first postion of the word\n",
    "4. there is a counter in the program which is incremented when the condition is matched\n",
    "5. It will return the number of time character satisfied the condition with the character"
   ]
  },
  {
   "cell_type": "code",
   "execution_count": 18,
   "metadata": {},
   "outputs": [
    {
     "name": "stdout",
     "output_type": "stream",
     "text": [
      "Your letter h occurs as the first letter: 3 times\n"
     ]
    }
   ],
   "source": [
    "# Accept string from the user\n",
    "string = validation(prompt = \"Enter the your line text:\",cond = lambda x: len(x) > 0, errMsg = \"Please enter a string\")\n",
    "string = string.split() # separate the each word and store it\n",
    "#accepts character from the user\n",
    "ch = validation(prompt = \"Enter the char to be searched:\", cast = str,cond = lambda x: len(x) > 0,errMsg=\"Please enter a character\")\n",
    "#counter for the number times condiotion satisfied\n",
    "count = 0 \n",
    "# loop over the array of words\n",
    "for i in string:\n",
    "  #checks for first letter of string\n",
    "  if i[0] == ch:\n",
    "    count += 1\n",
    "# print result using f string\n",
    "print(f'Your letter {ch} occurs as the first letter: {count} times')    "
   ]
  },
  {
   "cell_type": "markdown",
   "metadata": {},
   "source": [
    "Algorithm:\n",
    "1. A string is enter by the user it can be a number or character\n",
    "2. the string is reversed \n",
    "3. Check is the word and reversed string are same\n",
    "4. if the condition is satisfied then its a palindroime or else not a palindrome"
   ]
  },
  {
   "cell_type": "code",
   "execution_count": 19,
   "metadata": {},
   "outputs": [
    {
     "name": "stdout",
     "output_type": "stream",
     "text": [
      "mom is a palindrom!!\n"
     ]
    }
   ],
   "source": [
    "#FInd palindrome\n",
    "# accept inut from the user\n",
    "word = input(\"Enter the word:\")\n",
    "# check the word and reverse the word if both are same the palindrome\n",
    "if word == word[::-1]:\n",
    "  print(f\"{word} is a palindrom!!\")\n",
    "# else not a palindrome  \n",
    "else:\n",
    "  print(f\"{word} is not a palindrom!!\")\n"
   ]
  },
  {
   "cell_type": "markdown",
   "metadata": {},
   "source": [
    "Algorithm:\n",
    "1. User should enter the file name or path\n",
    "2. using the filename or path computer will check for the existing path\n",
    "3. if not then gives error and except will catch the error\n",
    "4. using the filename we will read the file\n",
    "5. then using readlines we will count the number of lines\n",
    "6. read to read the file and split is used to get words from the file using space\n",
    "7. then the number of words are returned\n",
    "8. next we will read the file and replace \\n that is new line with a char  and space 'A ' \n",
    "9. then number of character is counted using the lenght and returned\n",
    "10. we will read the file and separate each word using the split function\n",
    "11. we will iterate all the words in array and sum all the lenght of words\n",
    "12. then divide the sum with words count which will give the average \n",
    "13. printing all values using f string"
   ]
  },
  {
   "cell_type": "code",
   "execution_count": 15,
   "metadata": {},
   "outputs": [
    {
     "name": "stdout",
     "output_type": "stream",
     "text": [
      "Number of lines: 4\n",
      "Number of words: 27\n",
      "Number of Character: 132\n",
      "Average length of word:3.8\n"
     ]
    }
   ],
   "source": [
    "import os\n",
    "# possibility of error\n",
    "fileName = input(\"Enter the file name=\")\n",
    "try:\n",
    "  assert os.path.exists(fileName), \"I did not find the file at, \"+str(fileName)  # open the file to read \n",
    "  with open(fileName,mode = 'r') as fp:\n",
    "    # user object of the file and count the number of line property of readlines\n",
    "    lineCount = len(fp.readlines())\n",
    "  print('Number of lines:',lineCount)\n",
    "  # open the file to read \n",
    "  with open(fileName,mode = 'r') as fp:\n",
    "    # user object of the file and count the number of word property of split separate on basis of space\n",
    "    wordData = fp.read().split()\n",
    "  print(\"Number of words:\",len(wordData))\n",
    "  # open the file to read \n",
    "  with open(fileName,mode = 'r') as fp:\n",
    "    # use object of the file and count the number of character, replaced \\n with the character A so the count is 132 else its 129 with spaces\n",
    "    charData = fp.read().replace('\\n','A ')\n",
    "  print(\"Number of Character:\",len(charData))\n",
    "  # open the file to read \n",
    "  with open(fileName,mode = 'r') as fp:\n",
    "    # use object of the file and count the number of word property of split separate on basis of space\n",
    "    charData = fp.read().split()\n",
    "    count = 0 # store the total sum\n",
    "    for i in charData: # iterate over each word\n",
    "      count += len(i) # add length of the word\n",
    "  print(f\"Average length of word:{count/ len(wordData):.1f}\")\n",
    "#if error prints the error\n",
    "except Exception as e:\n",
    "  print(\"Error is:\",e)        \n"
   ]
  }
 ],
 "metadata": {
  "kernelspec": {
   "display_name": "Python 3.10.4 64-bit",
   "language": "python",
   "name": "python3"
  },
  "language_info": {
   "codemirror_mode": {
    "name": "ipython",
    "version": 3
   },
   "file_extension": ".py",
   "mimetype": "text/x-python",
   "name": "python",
   "nbconvert_exporter": "python",
   "pygments_lexer": "ipython3",
   "version": "3.10.4"
  },
  "orig_nbformat": 4,
  "vscode": {
   "interpreter": {
    "hash": "4b158de9dee9cdd12df4ca6f07919f74aba3858e0415eb8802c7bdbce4de9a36"
   }
  }
 },
 "nbformat": 4,
 "nbformat_minor": 2
}
