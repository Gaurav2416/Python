{
 "cells": [
  {
   "cell_type": "code",
   "execution_count": 28,
   "metadata": {},
   "outputs": [],
   "source": [
    "# Function is for validation generic code.\n",
    "def validation(prompt = \"\",cast = None, cond = None, errMsg = None): # accepts four parameter for validating the user input\n",
    "    # prompt is for string that will be visible to the user\n",
    "    # cast is the casting of the input value the defalut value is string\n",
    "    # cond is for condition it checks input with the condition passed by user, if no condition is passed then it chooses default value\n",
    "    #errMsg is for custom error message  if no message is passed the it will choosed default value.\n",
    "    while True: # This is infinity loop unless user enters correct value or unless user stops execution\n",
    "        try: #this is try block for execution and check for error \n",
    "            res = (cast or str)(input(prompt)) # If cast is passed then this will check the user input satisfies or else will throw a error. User value are stored in res variable\n",
    "            assert cond is None or cond(res) # Assert will check for the cond value if none then will return res or else check for the condition passed and if satisfied then return res else give error message\n",
    "            return res # res has correct value and can be utilized for further computation\n",
    "        except: # this is catch block if error is generated it will catch it and show the error message\n",
    "            print(errMsg or \"Invalid!!\")   # if the error message is passed by user it will show that error message else will show Invalid +"
   ]
  },
  {
   "cell_type": "code",
   "execution_count": 29,
   "metadata": {},
   "outputs": [],
   "source": [
    "# this function will accept file and read and convert in to the dataframe with Author and lines as the column name. the separator is the ':'\n",
    "def fileToWork():\n",
    "    import pandas as pd\n",
    "    from os.path import exists as file_exists # check if the file exist\n",
    "    path = validation(\"Enter the File Name\",cast=str,cond= lambda x: x.endswith('txt')  and file_exists(x), errMsg= \"file not proper\") # '\"poetry_lines.txt\" is example user have to enter '\n",
    "    data = pd.read_csv(path, sep=\":\",header = None, names=[\"Author\", \"lines\"]) # convert into the dataframe with author and lines as the column name and return the data\n",
    "    return data"
   ]
  },
  {
   "cell_type": "code",
   "execution_count": 30,
   "metadata": {},
   "outputs": [],
   "source": [
    "# this function will create the dictionary\n",
    "def createDict(lines):\n",
    "    wordDict = {} # intialization\n",
    "    word = lines.strip().split() # split the sentence and store to the list \n",
    "    for i in word: #iterate over the list of words collected from the list\n",
    "        if i in wordDict: # convert list to dictionary and word as the key and occurrence count \n",
    "            wordDict[i] += 1\n",
    "        else: # if occurr first time then add to the dictionary with 1 as occurrence    \n",
    "            wordDict[i]  = 1\n",
    "    return wordDict            # return the dictionary\n"
   ]
  },
  {
   "cell_type": "code",
   "execution_count": 31,
   "metadata": {},
   "outputs": [],
   "source": [
    "# function will collect dictionary and the store the values of dictionary\n",
    "def generateVector(data):\n",
    "    # intialize the array to variable\n",
    "    dictArray = [] \n",
    "    authors = []   \n",
    "    vectorArray = [] \n",
    "    for i in range(len(data)): # iterate over the line given\n",
    "        authors.append(data.iloc[i].Author.strip()) # append the author name to the list\n",
    "        wordDict = createDict(data.iloc[i].lines) # function call for the getting the word dictionary\n",
    "        vectorArray.append(list(wordDict.values())) # this will store the values for all the poems in the file\n",
    "        dictArray.append(wordDict) # add dictionary to the array\n",
    "    data[\"Dict\"] = list(dictArray) # add the array to the data frame\n",
    "    data[\"Vector\"] = list(vectorArray)# add the array to the dataframe\n",
    "# return the data frame\n",
    "    return data\n"
   ]
  },
  {
   "cell_type": "code",
   "execution_count": 32,
   "metadata": {},
   "outputs": [],
   "source": [
    "def userData(data):\n",
    "    # import required libraries\n",
    "    import numpy as np\n",
    "    from numpy.linalg import norm\n",
    "    simliar = 0 #intialize the counter\n",
    "    userInput = input(\"Enter the sentence\") #take input from the user\n",
    "    userDict = createDict(userInput) #create dictionary of words and their occurrence for the user input line\n",
    "    userVector = list(userDict.values()) # create the vector from the user entered dictionary\n",
    "    for i in range(len(data)):\n",
    "        ml = max(len(data.iloc[i].Vector),len(userVector)) # check for the max length from user line vector or file line vector\n",
    "        A = np.concatenate((data.iloc[i].Vector , np.zeros(ml-len(data.iloc[i].Vector)))) # add zeros for the place that doesnt match\n",
    "        B = np.concatenate((userVector , np.zeros(ml-len(userVector))))# add zeros\n",
    "        # compute cosine similarity\n",
    "        cosine = np.dot(A,B)/(norm(A)*norm(B)) # formula for the cosine similarity\n",
    "        print(f\"{data.iloc[i].Author}:{cosine:.2f}\") # show cosine similarity for all the poets\n",
    "        if simliar < cosine:\n",
    "            simliar = cosine\n",
    "            closest = i\n",
    "    print(\"The closest poem is:\\n\", data.iloc[closest].Author,\":\",data.iloc[closest].lines)    \n",
    "\n"
   ]
  },
  {
   "cell_type": "code",
   "execution_count": 33,
   "metadata": {},
   "outputs": [
    {
     "name": "stdout",
     "output_type": "stream",
     "text": [
      "William Wordsworth:0.87\n",
      "William Shakespeare:0.85\n",
      "Robert Frost:0.95\n",
      "The closest poem is:\n",
      " Robert Frost :  Whose woods these are I think I know./His house is in the village though;/He will not see me stopping here/To watch his woods fill up with snow.\n"
     ]
    }
   ],
   "source": [
    "def main():\n",
    "    data  = fileToWork()\n",
    "    vectorData = generateVector(data)\n",
    "    userData(vectorData)\n",
    "main()"
   ]
  }
 ],
 "metadata": {
  "kernelspec": {
   "display_name": "Python 3.10.4 64-bit",
   "language": "python",
   "name": "python3"
  },
  "language_info": {
   "codemirror_mode": {
    "name": "ipython",
    "version": 3
   },
   "file_extension": ".py",
   "mimetype": "text/x-python",
   "name": "python",
   "nbconvert_exporter": "python",
   "pygments_lexer": "ipython3",
   "version": "3.10.4"
  },
  "orig_nbformat": 4,
  "vscode": {
   "interpreter": {
    "hash": "4b158de9dee9cdd12df4ca6f07919f74aba3858e0415eb8802c7bdbce4de9a36"
   }
  }
 },
 "nbformat": 4,
 "nbformat_minor": 2
}
